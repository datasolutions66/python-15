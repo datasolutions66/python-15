{
  "nbformat": 4,
  "nbformat_minor": 0,
  "metadata": {
    "colab": {
      "provenance": []
    },
    "kernelspec": {
      "name": "python3",
      "display_name": "Python 3"
    },
    "language_info": {
      "name": "python"
    }
  },
  "cells": [
    {
      "cell_type": "markdown",
      "source": [
        "#Summary:-\n",
        "\n",
        "##Wrapper Function\n",
        "##Lambda Function or Anonymous Function\n",
        "##map Function\n",
        "##filter Function\n",
        "##reduce Function"
      ],
      "metadata": {
        "id": "ccO4dRyYE1wj"
      }
    },
    {
      "cell_type": "markdown",
      "source": [
        "##Wrapper Function:-"
      ],
      "metadata": {
        "id": "3rlhP-b6IgAR"
      }
    },
    {
      "cell_type": "code",
      "execution_count": null,
      "metadata": {
        "colab": {
          "base_uri": "https://localhost:8080/"
        },
        "id": "MWnIi0qH3jIz",
        "outputId": "c91c3bce-86b2-4d87-a947-3e12b1c69dfe"
      },
      "outputs": [
        {
          "output_type": "execute_result",
          "data": {
            "text/plain": [
              "12"
            ]
          },
          "metadata": {},
          "execution_count": 10
        }
      ],
      "source": [
        "def test6(func):\n",
        "  def test7():\n",
        "    func()\n",
        "    print(func())\n",
        "    print(\"This is my Decorator Function\")\n",
        "    return func()\n",
        "  return test7\n",
        "\n",
        "def test8():\n",
        "  return 5+7\n",
        "\n",
        "test8()"
      ]
    },
    {
      "cell_type": "code",
      "source": [
        "test8() + 12   #Because Both are integer"
      ],
      "metadata": {
        "colab": {
          "base_uri": "https://localhost:8080/"
        },
        "id": "hjUmw08AF5jO",
        "outputId": "eeebcb7a-3f5c-4294-be7c-a45a38d02028"
      },
      "execution_count": null,
      "outputs": [
        {
          "output_type": "execute_result",
          "data": {
            "text/plain": [
              "24"
            ]
          },
          "metadata": {},
          "execution_count": 4
        }
      ]
    },
    {
      "cell_type": "code",
      "source": [
        "@test6\n",
        "def test8():\n",
        "  return 5+7\n",
        "\n",
        "test8()"
      ],
      "metadata": {
        "colab": {
          "base_uri": "https://localhost:8080/"
        },
        "id": "4Md3yAG6GT_x",
        "outputId": "ae0c1602-8f6e-4673-ea4e-aa498659c72f"
      },
      "execution_count": null,
      "outputs": [
        {
          "output_type": "stream",
          "name": "stdout",
          "text": [
            "12\n",
            "This is my Decorator Function\n"
          ]
        }
      ]
    },
    {
      "cell_type": "code",
      "source": [
        "test8() + 100   "
      ],
      "metadata": {
        "colab": {
          "base_uri": "https://localhost:8080/"
        },
        "id": "NNvu8nOKG3Lg",
        "outputId": "1abf071e-6405-4545-db55-cb160caeb89f"
      },
      "execution_count": null,
      "outputs": [
        {
          "output_type": "execute_result",
          "data": {
            "text/plain": [
              "112"
            ]
          },
          "metadata": {},
          "execution_count": 12
        }
      ]
    },
    {
      "cell_type": "markdown",
      "source": [
        "###Another Situation:- Pass many Arguments as you want (By- *args)\n"
      ],
      "metadata": {
        "id": "8DRYakhLUJlG"
      }
    },
    {
      "cell_type": "code",
      "source": [
        "def test6(func):\n",
        "  def test7(*args):\n",
        "    func(*args)\n",
        "    print(func(*args))\n",
        "    print(\"This is my Decorator Function\")\n",
        "    return func(*args)\n",
        "  return test7\n",
        "\n",
        "def test8():\n",
        "  return 5+7\n",
        "\n",
        "test8()\n",
        "\n",
        "\n",
        "@test6\n",
        "def test8(a,b,c):\n",
        "  return a+b+c\n",
        "\n",
        "test8(\"Dipanjan\", \"Das\", \"Well\")"
      ],
      "metadata": {
        "colab": {
          "base_uri": "https://localhost:8080/",
          "height": 70
        },
        "id": "Wig87ijBUMY9",
        "outputId": "aae0051f-fa20-44d8-8f33-fca3b9d1ec9e"
      },
      "execution_count": null,
      "outputs": [
        {
          "output_type": "stream",
          "name": "stdout",
          "text": [
            "DipanjanDasWell\n",
            "This is my Decorator Function\n"
          ]
        },
        {
          "output_type": "execute_result",
          "data": {
            "text/plain": [
              "'DipanjanDasWell'"
            ],
            "application/vnd.google.colaboratory.intrinsic+json": {
              "type": "string"
            }
          },
          "metadata": {},
          "execution_count": 23
        }
      ]
    },
    {
      "cell_type": "markdown",
      "source": [
        "##Lambda Function or Anonymous Function (Function without a Name)"
      ],
      "metadata": {
        "id": "9WruDLUapBLX"
      }
    },
    {
      "cell_type": "code",
      "source": [
        "c = lambda a , b: a + b   #lambda is a Researved keyword\n",
        "\n",
        "c(\"Dipanjan\", \" Das\")\n"
      ],
      "metadata": {
        "id": "ndW7vugeUjKd",
        "colab": {
          "base_uri": "https://localhost:8080/",
          "height": 35
        },
        "outputId": "83a7f978-3d31-4bfd-d8da-9c1213714e23"
      },
      "execution_count": null,
      "outputs": [
        {
          "output_type": "execute_result",
          "data": {
            "text/plain": [
              "'Dipanjan Das'"
            ],
            "application/vnd.google.colaboratory.intrinsic+json": {
              "type": "string"
            }
          },
          "metadata": {},
          "execution_count": 2
        }
      ]
    },
    {
      "cell_type": "markdown",
      "source": [
        "###lambda Function Example:-"
      ],
      "metadata": {
        "id": "wrnhnoA3LAt-"
      }
    },
    {
      "cell_type": "code",
      "source": [
        "# def double(x):   #Nornal Function\n",
        "#   return x*2\n",
        "\n",
        "double = lambda x: x*2   #Writing in short from a Function\n",
        "\n",
        "double(5)"
      ],
      "metadata": {
        "colab": {
          "base_uri": "https://localhost:8080/"
        },
        "id": "cOigIGHnLFi_",
        "outputId": "c569ef51-eec2-4f38-c486-8597f8fb07a9"
      },
      "execution_count": null,
      "outputs": [
        {
          "output_type": "execute_result",
          "data": {
            "text/plain": [
              "10"
            ]
          },
          "metadata": {},
          "execution_count": 24
        }
      ]
    },
    {
      "cell_type": "code",
      "source": [
        "cube = lambda x: x**2    #lambda is a one line Function\n",
        "\n",
        "cube(6)"
      ],
      "metadata": {
        "colab": {
          "base_uri": "https://localhost:8080/"
        },
        "id": "HGUkkam_MNJ_",
        "outputId": "92ce4b7f-6dc9-4087-fef1-b6a0d9acde71"
      },
      "execution_count": null,
      "outputs": [
        {
          "output_type": "execute_result",
          "data": {
            "text/plain": [
              "36"
            ]
          },
          "metadata": {},
          "execution_count": 25
        }
      ]
    },
    {
      "cell_type": "code",
      "source": [
        "avg = lambda x,y,z: (x+y+z)/3\n",
        "\n",
        "avg(4,6,8)"
      ],
      "metadata": {
        "colab": {
          "base_uri": "https://localhost:8080/"
        },
        "id": "KUKoLEO3NQpX",
        "outputId": "4179969b-9bef-4169-d571-43bdb5fbeeb6"
      },
      "execution_count": null,
      "outputs": [
        {
          "output_type": "execute_result",
          "data": {
            "text/plain": [
              "6.0"
            ]
          },
          "metadata": {},
          "execution_count": 27
        }
      ]
    },
    {
      "cell_type": "markdown",
      "source": [
        "##map Function:-"
      ],
      "metadata": {
        "id": "D7VD79N1rvM_"
      }
    },
    {
      "cell_type": "code",
      "source": [
        "l = [1,2,3,4,5,6,7]\n",
        "\n",
        "li = []\n",
        "\n",
        "for i in l:          #Using for Loop\n",
        "  li.append(i+10)\n",
        "li"
      ],
      "metadata": {
        "colab": {
          "base_uri": "https://localhost:8080/"
        },
        "id": "bF_HsXt2qKrQ",
        "outputId": "cf689a44-6b11-4804-e0e3-1b1b533635bc"
      },
      "execution_count": null,
      "outputs": [
        {
          "output_type": "execute_result",
          "data": {
            "text/plain": [
              "[11, 12, 13, 14, 15, 16, 17]"
            ]
          },
          "metadata": {},
          "execution_count": 3
        }
      ]
    },
    {
      "cell_type": "code",
      "source": [
        "l = [1,2,3,4,5,6,7]\n",
        "\n",
        "def test14(a):\n",
        "  return a + 10\n",
        "  \n",
        "list(map(test14, l))"
      ],
      "metadata": {
        "colab": {
          "base_uri": "https://localhost:8080/"
        },
        "id": "3pW3bublwRl9",
        "outputId": "cafe1596-6f3d-4d56-96c1-bf2e9528b2c4"
      },
      "execution_count": null,
      "outputs": [
        {
          "output_type": "execute_result",
          "data": {
            "text/plain": [
              "[11, 12, 13, 14, 15, 16, 17]"
            ]
          },
          "metadata": {},
          "execution_count": 6
        }
      ]
    },
    {
      "cell_type": "markdown",
      "source": [
        "###map Example:-"
      ],
      "metadata": {
        "id": "jYvW0CG5SSI1"
      }
    },
    {
      "cell_type": "code",
      "source": [
        "def cube(x):\n",
        "  return x*x*x\n",
        "\n",
        "l = [1,2,3,4,5,6,7]\n",
        "\n",
        "newl = list(map(cube, l))   #(function name, Where you want to apply this Function) => It is working on every element in List\n",
        "\n",
        "print(newl)"
      ],
      "metadata": {
        "colab": {
          "base_uri": "https://localhost:8080/"
        },
        "id": "E0_mL3gPSYHN",
        "outputId": "9ef95a2a-d2c2-4f7b-bb46-8742e2c5062c"
      },
      "execution_count": null,
      "outputs": [
        {
          "output_type": "stream",
          "name": "stdout",
          "text": [
            "[1, 8, 27, 64, 125, 216, 343]\n"
          ]
        }
      ]
    },
    {
      "cell_type": "markdown",
      "source": [
        "###Another way"
      ],
      "metadata": {
        "id": "bauTR2Mp22pE"
      }
    },
    {
      "cell_type": "code",
      "source": [
        "list(map(lambda a: a + 10, l))"
      ],
      "metadata": {
        "colab": {
          "base_uri": "https://localhost:8080/"
        },
        "id": "lENCwygg2XcF",
        "outputId": "a735c362-8006-4c06-bc51-ca9cf79f4d34"
      },
      "execution_count": null,
      "outputs": [
        {
          "output_type": "execute_result",
          "data": {
            "text/plain": [
              "[11, 12, 13, 14, 15, 16, 17]"
            ]
          },
          "metadata": {},
          "execution_count": 7
        }
      ]
    },
    {
      "cell_type": "markdown",
      "source": [
        "##Upper Case"
      ],
      "metadata": {
        "id": "-s6hFpei4CzT"
      }
    },
    {
      "cell_type": "code",
      "source": [
        "l = [\"Dipanjan\", \"Das\", \"iNeuron\"]\n",
        "\n",
        "li = []\n",
        "for i in l:\n",
        "  li.append(i.upper())\n",
        "\n",
        "li\n",
        "  \n"
      ],
      "metadata": {
        "colab": {
          "base_uri": "https://localhost:8080/"
        },
        "id": "3GZdi0763Ys0",
        "outputId": "cbd29598-c12d-46a3-f052-975c2ecdc162"
      },
      "execution_count": null,
      "outputs": [
        {
          "output_type": "execute_result",
          "data": {
            "text/plain": [
              "['DIPANJAN', 'DAS', 'INEURON']"
            ]
          },
          "metadata": {},
          "execution_count": 8
        }
      ]
    },
    {
      "cell_type": "markdown",
      "source": [
        "###Upper Case - Using map"
      ],
      "metadata": {
        "id": "lC8wBDNf4npD"
      }
    },
    {
      "cell_type": "code",
      "source": [
        "l = [\"Dipanjan\", \"Das\", \"iNeuron\"]\n",
        "\n",
        "list(map(lambda a : a.upper(), l))\n"
      ],
      "metadata": {
        "colab": {
          "base_uri": "https://localhost:8080/"
        },
        "id": "TZGvGNWB4lmL",
        "outputId": "b2e63c52-ef9f-4cfe-db8f-270306c5bba9"
      },
      "execution_count": null,
      "outputs": [
        {
          "output_type": "execute_result",
          "data": {
            "text/plain": [
              "['DIPANJAN', 'DAS', 'INEURON']"
            ]
          },
          "metadata": {},
          "execution_count": 12
        }
      ]
    },
    {
      "cell_type": "markdown",
      "source": [
        "###Length of every String"
      ],
      "metadata": {
        "id": "E9S62_Ba6Qzj"
      }
    },
    {
      "cell_type": "code",
      "source": [
        "l = [\"Dipanjan\", \"Das\", \"iNeuron\"]\n",
        "\n",
        "list(map(len, l))"
      ],
      "metadata": {
        "colab": {
          "base_uri": "https://localhost:8080/"
        },
        "id": "aoUSZd085I2r",
        "outputId": "62f67279-a35e-4a57-999e-2fcf49f827dc"
      },
      "execution_count": null,
      "outputs": [
        {
          "output_type": "execute_result",
          "data": {
            "text/plain": [
              "[8, 3, 7]"
            ]
          },
          "metadata": {},
          "execution_count": 13
        }
      ]
    },
    {
      "cell_type": "markdown",
      "source": [
        "###filter Function"
      ],
      "metadata": {
        "id": "SsV9tVfH7Im7"
      }
    },
    {
      "cell_type": "code",
      "source": [
        "l = [1,2,3,4,5,6,7,8]   #Filter out all the Even number from this List\n",
        "\n",
        "li = []\n",
        "for i in l:       #Using for Loop\n",
        "  if i%2 == 0:\n",
        "    li.append(i)\n",
        "\n",
        "li\n",
        "\n"
      ],
      "metadata": {
        "colab": {
          "base_uri": "https://localhost:8080/"
        },
        "id": "DrnkiNCE6eDy",
        "outputId": "5e7535f5-c66a-4215-9692-d1b7f0306aaf"
      },
      "execution_count": null,
      "outputs": [
        {
          "output_type": "execute_result",
          "data": {
            "text/plain": [
              "[2, 4, 6, 8]"
            ]
          },
          "metadata": {},
          "execution_count": 16
        }
      ]
    },
    {
      "cell_type": "markdown",
      "source": [
        "###Filter Function Example"
      ],
      "metadata": {
        "id": "JMGGXAIgUMPe"
      }
    },
    {
      "cell_type": "code",
      "source": [
        "l = [1,2,3,4,5,6,7,8]\n",
        "\n",
        "def filter_function(a):\n",
        "  return a>3                                  #Give value which are greater than 3\n",
        "newlist = list(filter(filter_function, l))\n",
        "\n",
        "print(newlist)"
      ],
      "metadata": {
        "colab": {
          "base_uri": "https://localhost:8080/"
        },
        "id": "0nMs7EVsURg0",
        "outputId": "20cc7231-65df-4c72-9c32-1dc92c37555b"
      },
      "execution_count": null,
      "outputs": [
        {
          "output_type": "stream",
          "name": "stdout",
          "text": [
            "[4, 5, 6, 7, 8]\n"
          ]
        }
      ]
    },
    {
      "cell_type": "markdown",
      "source": [
        "###reduce Function\n",
        "### In (2,3,4,5)\n",
        "###first - 2*3 = 6 \n",
        "###then - 6*4 = 24\n",
        "###then - 24*5 = 120\n",
        "###That's how reduce works (It takes a & b)"
      ],
      "metadata": {
        "id": "X6TUuDEE-e2i"
      }
    },
    {
      "cell_type": "code",
      "source": [
        "l = [1,2,3,4,5,6,7,8]   #Give me summation of this entire element\n",
        "\n",
        "sum(l)"
      ],
      "metadata": {
        "colab": {
          "base_uri": "https://localhost:8080/"
        },
        "id": "QTauLkeW9rcS",
        "outputId": "08fdfcca-801c-48f9-cce2-6b2b3d648a26"
      },
      "execution_count": null,
      "outputs": [
        {
          "output_type": "execute_result",
          "data": {
            "text/plain": [
              "36"
            ]
          },
          "metadata": {},
          "execution_count": 18
        }
      ]
    },
    {
      "cell_type": "code",
      "source": [
        "from functools import reduce\n",
        "\n",
        "reduce(lambda a,b: a*b, l)   #reduce  - only take 2 arguments. It will not take more than 2 arguments"
      ],
      "metadata": {
        "colab": {
          "base_uri": "https://localhost:8080/"
        },
        "id": "coTf4E9M-9fS",
        "outputId": "a5121986-28ea-4739-a6ca-faa3d29f050c"
      },
      "execution_count": null,
      "outputs": [
        {
          "output_type": "execute_result",
          "data": {
            "text/plain": [
              "40320"
            ]
          },
          "metadata": {},
          "execution_count": 19
        }
      ]
    },
    {
      "cell_type": "code",
      "source": [],
      "metadata": {
        "id": "M7kji4f-_oRS"
      },
      "execution_count": null,
      "outputs": []
    }
  ]
}